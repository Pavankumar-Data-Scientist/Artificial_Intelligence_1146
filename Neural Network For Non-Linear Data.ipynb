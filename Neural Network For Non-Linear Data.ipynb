{
 "cells": [
  {
   "cell_type": "code",
   "execution_count": 1,
   "id": "24519ada-0dbc-4050-be53-21124cb4382e",
   "metadata": {},
   "outputs": [],
   "source": [
    "import numpy as np"
   ]
  },
  {
   "cell_type": "code",
   "execution_count": 90,
   "id": "373d0c74-6d05-4958-a8f4-438e4978942f",
   "metadata": {},
   "outputs": [
    {
     "data": {
      "text/plain": [
       "(array([[0, 0],\n",
       "        [0, 1],\n",
       "        [1, 0],\n",
       "        [1, 1]]),\n",
       " array([[0],\n",
       "        [1],\n",
       "        [1],\n",
       "        [0]]))"
      ]
     },
     "execution_count": 90,
     "metadata": {},
     "output_type": "execute_result"
    }
   ],
   "source": [
    "inp_data = np.array([[0, 0], [0, 1], [1, 0], [1, 1]])\n",
    "out_data = np.array([[0], [1], [1], [0]])\n",
    "inp_data, out_data"
   ]
  },
  {
   "cell_type": "code",
   "execution_count": 91,
   "id": "d59d05e7-a2ff-46f5-adee-36a9ab2fca94",
   "metadata": {},
   "outputs": [],
   "source": [
    "def sigmoid(x):\n",
    "    return 1/(1+np.exp(-x))"
   ]
  },
  {
   "cell_type": "code",
   "execution_count": 92,
   "id": "48a33281-fa1b-4122-8134-46b6df187e04",
   "metadata": {},
   "outputs": [],
   "source": [
    "def sigmoid_derivative(x):\n",
    "    return x*(1-x)"
   ]
  },
  {
   "cell_type": "code",
   "execution_count": 93,
   "id": "e1efeb22-e923-48d6-b12d-eda5d7935c85",
   "metadata": {},
   "outputs": [],
   "source": [
    "inp_dim = 2\n",
    "hid_dim = 4\n",
    "out_dim = 1"
   ]
  },
  {
   "cell_type": "code",
   "execution_count": 94,
   "id": "f7d745b8-976e-4aed-8d03-8e550086ec51",
   "metadata": {},
   "outputs": [
    {
     "data": {
      "text/plain": [
       "(array([[ 0.5901938 , -0.82682978, -0.8980841 , -0.38988497],\n",
       "        [-0.89386107, -0.62194502, -0.7378185 ,  0.81605354]]),\n",
       " array([[0.66851732],\n",
       "        [0.31155275],\n",
       "        [0.10197557],\n",
       "        [0.55230166]]))"
      ]
     },
     "execution_count": 94,
     "metadata": {},
     "output_type": "execute_result"
    }
   ],
   "source": [
    "input_hidden_weights = 2*np.random.random((inp_dim, hid_dim))-1\n",
    "hidden_output_weights = 2*np.random.random((hid_dim, out_dim))-1\n",
    "input_hidden_weights, hidden_output_weights"
   ]
  },
  {
   "cell_type": "code",
   "execution_count": 95,
   "id": "ca38e1bb-5f72-46c4-9aa1-3f5e9e8c9e78",
   "metadata": {},
   "outputs": [],
   "source": [
    "lr = 0.5\n",
    "epochs = 10000"
   ]
  },
  {
   "cell_type": "code",
   "execution_count": 96,
   "id": "55b077bd-16c1-460f-9d1c-6e162ce3d12a",
   "metadata": {},
   "outputs": [],
   "source": [
    "for i in range(epochs):\n",
    "    ## Feed Forward \n",
    "    hidden_layer_output = sigmoid(np.dot(inp_data, input_hidden_weights))\n",
    "    output_layer_output = sigmoid(np.dot(hidden_layer_output, hidden_output_weights))\n",
    "\n",
    "    ## Calculate Output Layer Error\n",
    "    output_layer_error = out_data - output_layer_output\n",
    "\n",
    "    ## Back-Propogation to change the hidden_output_weights\n",
    "    output_layer_delta = output_layer_error * sigmoid_derivative(output_layer_output)\n",
    "    new_hidden_output_weights = lr * np.dot(hidden_layer_output.T, output_layer_delta)\n",
    "\n",
    "    ## Calculate Hidden Layer Error\n",
    "    hidden_layer_error = np.dot(output_layer_delta, hidden_output_weights.T)\n",
    "\n",
    "    ## Back-Propogation to change the input_hidden_weights\n",
    "    hidden_layer_delta = hidden_layer_error * sigmoid_derivative(hidden_layer_output)\n",
    "    new_input_hidden_weights = lr * np.dot(inp_data.T, hidden_layer_delta)\n",
    "\n",
    "    ## Updating Both layer weights\n",
    "    input_hidden_weights += new_input_hidden_weights\n",
    "    hidden_output_weights += new_hidden_output_weights"
   ]
  },
  {
   "cell_type": "code",
   "execution_count": 97,
   "id": "33973aaa-bf96-4bcb-99f8-d214282ee0aa",
   "metadata": {},
   "outputs": [
    {
     "data": {
      "text/plain": [
       "array([[ 3.26445428,  0.14117219, -5.49217574, -7.18851987],\n",
       "       [-7.14849163,  0.78978422, -5.68207495,  3.33146163]])"
      ]
     },
     "execution_count": 97,
     "metadata": {},
     "output_type": "execute_result"
    }
   ],
   "source": [
    "input_hidden_weights"
   ]
  },
  {
   "cell_type": "code",
   "execution_count": 98,
   "id": "4c0a0de6-6969-4822-af7e-1802927fab80",
   "metadata": {},
   "outputs": [
    {
     "data": {
      "text/plain": [
       "array([[  6.71302591],\n",
       "       [ -5.27305872],\n",
       "       [-15.7334267 ],\n",
       "       [  7.46407698]])"
      ]
     },
     "execution_count": 98,
     "metadata": {},
     "output_type": "execute_result"
    }
   ],
   "source": [
    "hidden_output_weights"
   ]
  },
  {
   "cell_type": "code",
   "execution_count": 99,
   "id": "1d6451cb-fa8f-440e-88bb-23edd969963c",
   "metadata": {},
   "outputs": [],
   "source": [
    "hidden_output = sigmoid(np.dot(inp_data, input_hidden_weights))\n",
    "predicted_output = sigmoid(np.dot(hidden_output, hidden_output_weights))"
   ]
  },
  {
   "cell_type": "code",
   "execution_count": 100,
   "id": "34a19697-cfd0-4664-a6e6-4c91411f4eab",
   "metadata": {},
   "outputs": [
    {
     "data": {
      "text/plain": [
       "array([[0.03183947],\n",
       "       [0.9715747 ],\n",
       "       [0.9730036 ],\n",
       "       [0.02952115]])"
      ]
     },
     "execution_count": 100,
     "metadata": {},
     "output_type": "execute_result"
    }
   ],
   "source": [
    "predicted_output"
   ]
  },
  {
   "cell_type": "code",
   "execution_count": 101,
   "id": "5d09be0f-4226-4886-adb5-041a7c27c444",
   "metadata": {},
   "outputs": [
    {
     "data": {
      "text/plain": [
       "array([[-0.03184129],\n",
       "       [ 0.02842694],\n",
       "       [ 0.026998  ],\n",
       "       [-0.02952292]])"
      ]
     },
     "execution_count": 101,
     "metadata": {},
     "output_type": "execute_result"
    }
   ],
   "source": [
    "output_layer_error"
   ]
  },
  {
   "cell_type": "code",
   "execution_count": 102,
   "id": "f16a5fbd-1649-42cb-999b-062b850894bf",
   "metadata": {},
   "outputs": [
    {
     "data": {
      "text/plain": [
       "array([[-0.00658932,  0.00517587,  0.01544346, -0.0073265 ],\n",
       "       [ 0.00527046, -0.00413991, -0.01235242,  0.00586009],\n",
       "       [ 0.00476091, -0.00373966, -0.01115818,  0.00529353],\n",
       "       [-0.00567828,  0.00446025,  0.01330824, -0.00631354]])"
      ]
     },
     "execution_count": 102,
     "metadata": {},
     "output_type": "execute_result"
    }
   ],
   "source": [
    "hidden_layer_error"
   ]
  },
  {
   "cell_type": "code",
   "execution_count": 103,
   "id": "a55463c8-c052-452a-98b6-aa0f47b2ce58",
   "metadata": {},
   "outputs": [
    {
     "data": {
      "text/plain": [
       "array([[0.],\n",
       "       [1.],\n",
       "       [1.],\n",
       "       [0.]])"
      ]
     },
     "execution_count": 103,
     "metadata": {},
     "output_type": "execute_result"
    }
   ],
   "source": [
    "np.round(predicted_output)"
   ]
  },
  {
   "cell_type": "code",
   "execution_count": null,
   "id": "4e293f83-ed97-4d0f-89ae-8b33638d173e",
   "metadata": {},
   "outputs": [],
   "source": []
  },
  {
   "cell_type": "code",
   "execution_count": null,
   "id": "fc3fcd27-ef2a-4e3b-b092-b88147931cb4",
   "metadata": {},
   "outputs": [],
   "source": []
  }
 ],
 "metadata": {
  "kernelspec": {
   "display_name": "Python 3 (ipykernel)",
   "language": "python",
   "name": "python3"
  },
  "language_info": {
   "codemirror_mode": {
    "name": "ipython",
    "version": 3
   },
   "file_extension": ".py",
   "mimetype": "text/x-python",
   "name": "python",
   "nbconvert_exporter": "python",
   "pygments_lexer": "ipython3",
   "version": "3.11.7"
  },
  "widgets": {
   "application/vnd.jupyter.widget-state+json": {
    "state": {},
    "version_major": 2,
    "version_minor": 0
   }
  }
 },
 "nbformat": 4,
 "nbformat_minor": 5
}
