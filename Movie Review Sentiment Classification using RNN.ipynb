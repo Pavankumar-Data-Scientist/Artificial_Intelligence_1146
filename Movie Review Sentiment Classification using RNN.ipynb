{
 "cells": [
  {
   "cell_type": "code",
   "execution_count": 1,
   "id": "0c576234-c680-443e-abc5-3d696b0bce17",
   "metadata": {},
   "outputs": [
    {
     "name": "stdout",
     "output_type": "stream",
     "text": [
      "WARNING:tensorflow:From C:\\Users\\Soft\\AppData\\Local\\Programs\\Python\\Python311\\Lib\\site-packages\\keras\\src\\losses.py:2976: The name tf.losses.sparse_softmax_cross_entropy is deprecated. Please use tf.compat.v1.losses.sparse_softmax_cross_entropy instead.\n",
      "\n"
     ]
    }
   ],
   "source": [
    "import numpy as np\n",
    "import pandas as pd\n",
    "import matplotlib.pyplot as plt\n",
    "import seaborn as sns\n",
    "\n",
    "import tensorflow as tf\n",
    "from tensorflow.keras.preprocessing.text import Tokenizer\n",
    "from tensorflow.keras.preprocessing import sequence\n",
    "from tensorflow.keras.models import Sequential\n",
    "from tensorflow.keras.layers import Embedding, SimpleRNN, Dense\n",
    "\n",
    "from nltk.corpus import stopwords\n",
    "from nltk import word_tokenize\n",
    "\n",
    "import warnings\n",
    "warnings.filterwarnings(\"ignore\")"
   ]
  },
  {
   "cell_type": "code",
   "execution_count": 2,
   "id": "779845e7-bd06-4132-99ed-72ceeb80b33b",
   "metadata": {},
   "outputs": [],
   "source": [
    "df = pd.read_excel(\"movies review.xlsx\")"
   ]
  },
  {
   "cell_type": "code",
   "execution_count": 3,
   "id": "7b265837-38fd-4b05-8970-23a7d80bf375",
   "metadata": {
    "scrolled": true
   },
   "outputs": [
    {
     "data": {
      "text/html": [
       "<div>\n",
       "<style scoped>\n",
       "    .dataframe tbody tr th:only-of-type {\n",
       "        vertical-align: middle;\n",
       "    }\n",
       "\n",
       "    .dataframe tbody tr th {\n",
       "        vertical-align: top;\n",
       "    }\n",
       "\n",
       "    .dataframe thead th {\n",
       "        text-align: right;\n",
       "    }\n",
       "</style>\n",
       "<table border=\"1\" class=\"dataframe\">\n",
       "  <thead>\n",
       "    <tr style=\"text-align: right;\">\n",
       "      <th></th>\n",
       "      <th>Sr. No.</th>\n",
       "      <th>Review</th>\n",
       "      <th>Sentiment</th>\n",
       "    </tr>\n",
       "  </thead>\n",
       "  <tbody>\n",
       "    <tr>\n",
       "      <th>0</th>\n",
       "      <td>1</td>\n",
       "      <td>The movie was a heartwarming tale of friendshi...</td>\n",
       "      <td>Positive</td>\n",
       "    </tr>\n",
       "    <tr>\n",
       "      <th>1</th>\n",
       "      <td>2</td>\n",
       "      <td>The plot was predictable and boring, with no r...</td>\n",
       "      <td>Negative</td>\n",
       "    </tr>\n",
       "    <tr>\n",
       "      <th>2</th>\n",
       "      <td>3</td>\n",
       "      <td>I loved every minute of it! The visuals were s...</td>\n",
       "      <td>Positive</td>\n",
       "    </tr>\n",
       "    <tr>\n",
       "      <th>3</th>\n",
       "      <td>4</td>\n",
       "      <td>An absolute disaster. The script was weak, and...</td>\n",
       "      <td>Negative</td>\n",
       "    </tr>\n",
       "    <tr>\n",
       "      <th>4</th>\n",
       "      <td>5</td>\n",
       "      <td>The action sequences were mind-blowing, and th...</td>\n",
       "      <td>Positive</td>\n",
       "    </tr>\n",
       "  </tbody>\n",
       "</table>\n",
       "</div>"
      ],
      "text/plain": [
       "   Sr. No.  \\\n",
       "0        1   \n",
       "1        2   \n",
       "2        3   \n",
       "3        4   \n",
       "4        5   \n",
       "\n",
       "  Review                                                                                                                                                \\\n",
       "0  The movie was a heartwarming tale of friendshi...                                                                                                     \n",
       "1  The plot was predictable and boring, with no r...                                                                                                     \n",
       "2  I loved every minute of it! The visuals were s...                                                                                                     \n",
       "3  An absolute disaster. The script was weak, and...                                                                                                     \n",
       "4  The action sequences were mind-blowing, and th...                                                                                                     \n",
       "\n",
       "  Sentiment  \n",
       "0  Positive  \n",
       "1  Negative  \n",
       "2  Positive  \n",
       "3  Negative  \n",
       "4  Positive  "
      ]
     },
     "execution_count": 3,
     "metadata": {},
     "output_type": "execute_result"
    }
   ],
   "source": [
    "df.head()"
   ]
  },
  {
   "cell_type": "code",
   "execution_count": 4,
   "id": "2e189e8f-a775-45cb-93a5-265d7260ee7a",
   "metadata": {},
   "outputs": [],
   "source": [
    "df.columns = [\"Sr. No.\", \"Review\", \"Sentiment\"]"
   ]
  },
  {
   "cell_type": "code",
   "execution_count": 5,
   "id": "b54a2446-d5a6-406b-aaf2-23e04db187cf",
   "metadata": {},
   "outputs": [],
   "source": [
    "reviews = df[\"Review\"]"
   ]
  },
  {
   "cell_type": "code",
   "execution_count": 6,
   "id": "61fb0ae6-693f-42b2-8b51-d941f5021c7b",
   "metadata": {},
   "outputs": [],
   "source": [
    "stop_words = set(stopwords.words(\"english\"))"
   ]
  },
  {
   "cell_type": "code",
   "execution_count": 7,
   "id": "a2013c41-a657-4502-9661-de1d6a59b624",
   "metadata": {},
   "outputs": [
    {
     "data": {
      "text/plain": [
       "{'a',\n",
       " 'about',\n",
       " 'above',\n",
       " 'after',\n",
       " 'again',\n",
       " 'against',\n",
       " 'ain',\n",
       " 'all',\n",
       " 'am',\n",
       " 'an',\n",
       " 'and',\n",
       " 'any',\n",
       " 'are',\n",
       " 'aren',\n",
       " \"aren't\",\n",
       " 'as',\n",
       " 'at',\n",
       " 'be',\n",
       " 'because',\n",
       " 'been',\n",
       " 'before',\n",
       " 'being',\n",
       " 'below',\n",
       " 'between',\n",
       " 'both',\n",
       " 'but',\n",
       " 'by',\n",
       " 'can',\n",
       " 'couldn',\n",
       " \"couldn't\",\n",
       " 'd',\n",
       " 'did',\n",
       " 'didn',\n",
       " \"didn't\",\n",
       " 'do',\n",
       " 'does',\n",
       " 'doesn',\n",
       " \"doesn't\",\n",
       " 'doing',\n",
       " 'don',\n",
       " \"don't\",\n",
       " 'down',\n",
       " 'during',\n",
       " 'each',\n",
       " 'few',\n",
       " 'for',\n",
       " 'from',\n",
       " 'further',\n",
       " 'had',\n",
       " 'hadn',\n",
       " \"hadn't\",\n",
       " 'has',\n",
       " 'hasn',\n",
       " \"hasn't\",\n",
       " 'have',\n",
       " 'haven',\n",
       " \"haven't\",\n",
       " 'having',\n",
       " 'he',\n",
       " 'her',\n",
       " 'here',\n",
       " 'hers',\n",
       " 'herself',\n",
       " 'him',\n",
       " 'himself',\n",
       " 'his',\n",
       " 'how',\n",
       " 'i',\n",
       " 'if',\n",
       " 'in',\n",
       " 'into',\n",
       " 'is',\n",
       " 'isn',\n",
       " \"isn't\",\n",
       " 'it',\n",
       " \"it's\",\n",
       " 'its',\n",
       " 'itself',\n",
       " 'just',\n",
       " 'll',\n",
       " 'm',\n",
       " 'ma',\n",
       " 'me',\n",
       " 'mightn',\n",
       " \"mightn't\",\n",
       " 'more',\n",
       " 'most',\n",
       " 'mustn',\n",
       " \"mustn't\",\n",
       " 'my',\n",
       " 'myself',\n",
       " 'needn',\n",
       " \"needn't\",\n",
       " 'no',\n",
       " 'nor',\n",
       " 'not',\n",
       " 'now',\n",
       " 'o',\n",
       " 'of',\n",
       " 'off',\n",
       " 'on',\n",
       " 'once',\n",
       " 'only',\n",
       " 'or',\n",
       " 'other',\n",
       " 'our',\n",
       " 'ours',\n",
       " 'ourselves',\n",
       " 'out',\n",
       " 'over',\n",
       " 'own',\n",
       " 're',\n",
       " 's',\n",
       " 'same',\n",
       " 'shan',\n",
       " \"shan't\",\n",
       " 'she',\n",
       " \"she's\",\n",
       " 'should',\n",
       " \"should've\",\n",
       " 'shouldn',\n",
       " \"shouldn't\",\n",
       " 'so',\n",
       " 'some',\n",
       " 'such',\n",
       " 't',\n",
       " 'than',\n",
       " 'that',\n",
       " \"that'll\",\n",
       " 'the',\n",
       " 'their',\n",
       " 'theirs',\n",
       " 'them',\n",
       " 'themselves',\n",
       " 'then',\n",
       " 'there',\n",
       " 'these',\n",
       " 'they',\n",
       " 'this',\n",
       " 'those',\n",
       " 'through',\n",
       " 'to',\n",
       " 'too',\n",
       " 'under',\n",
       " 'until',\n",
       " 'up',\n",
       " 've',\n",
       " 'very',\n",
       " 'was',\n",
       " 'wasn',\n",
       " \"wasn't\",\n",
       " 'we',\n",
       " 'were',\n",
       " 'weren',\n",
       " \"weren't\",\n",
       " 'what',\n",
       " 'when',\n",
       " 'where',\n",
       " 'which',\n",
       " 'while',\n",
       " 'who',\n",
       " 'whom',\n",
       " 'why',\n",
       " 'will',\n",
       " 'with',\n",
       " 'won',\n",
       " \"won't\",\n",
       " 'wouldn',\n",
       " \"wouldn't\",\n",
       " 'y',\n",
       " 'you',\n",
       " \"you'd\",\n",
       " \"you'll\",\n",
       " \"you're\",\n",
       " \"you've\",\n",
       " 'your',\n",
       " 'yours',\n",
       " 'yourself',\n",
       " 'yourselves'}"
      ]
     },
     "execution_count": 7,
     "metadata": {},
     "output_type": "execute_result"
    }
   ],
   "source": [
    "stop_words"
   ]
  },
  {
   "cell_type": "code",
   "execution_count": 8,
   "id": "335dc37c-53e6-4f0c-8fc9-5f6bf1642c05",
   "metadata": {},
   "outputs": [],
   "source": [
    "cleaned_reviews = []\n",
    "for i in reviews.tolist():\n",
    "    review_tokens = word_tokenize(i.lower())\n",
    "    ls = []\n",
    "    for words in review_tokens:\n",
    "        if words.isalpha():\n",
    "            if words not in stop_words:\n",
    "                ls.append(words)\n",
    "    cleaned_reviews.append(\" \".join(ls))"
   ]
  },
  {
   "cell_type": "code",
   "execution_count": 9,
   "id": "0241a46a-01d5-4368-a4a0-bffc4db5a115",
   "metadata": {},
   "outputs": [],
   "source": [
    "sentiment = df[\"Sentiment\"]"
   ]
  },
  {
   "cell_type": "code",
   "execution_count": 10,
   "id": "9f4d321a-764d-4b68-9e54-66f3c00cadad",
   "metadata": {},
   "outputs": [],
   "source": [
    "tokenize = Tokenizer()"
   ]
  },
  {
   "cell_type": "code",
   "execution_count": 11,
   "id": "c29bbbe9-64b5-4d52-a466-17fc75982d98",
   "metadata": {},
   "outputs": [],
   "source": [
    "tokenize.fit_on_texts(cleaned_reviews)"
   ]
  },
  {
   "cell_type": "code",
   "execution_count": 12,
   "id": "14faea8d-6624-40a6-96a7-c2ec13706e82",
   "metadata": {},
   "outputs": [],
   "source": [
    "seq = tokenize.texts_to_sequences(reviews)"
   ]
  },
  {
   "cell_type": "code",
   "execution_count": 13,
   "id": "956f5da6-d4b5-44e5-9c93-61265b24d78e",
   "metadata": {
    "scrolled": true
   },
   "outputs": [
    {
     "data": {
      "text/plain": [
       "[[1, 21, 51, 52, 53, 7, 54, 5, 55, 12, 22, 56],\n",
       " [4, 57, 58, 23, 59, 8, 60, 9, 2, 24, 61, 25],\n",
       " [62, 63, 64, 26, 27, 10, 28, 65, 66, 67, 29, 68],\n",
       " [69, 70, 30, 31, 3, 32, 71, 72],\n",
       " [73, 74, 75, 76, 77, 11, 9, 33, 6, 78],\n",
       " [2, 79, 80, 81, 82, 83, 84, 14, 85, 34, 86, 15],\n",
       " [35, 36, 87, 88, 7, 89, 10, 90, 16, 91, 9, 37, 92],\n",
       " [93, 4, 94, 3, 2, 38, 95, 5, 17, 96, 97],\n",
       " [98, 2, 99, 100, 101, 18, 39, 102, 103],\n",
       " [40, 104, 105, 106, 1, 107, 108, 109, 110],\n",
       " [41, 1, 111, 112, 113, 114, 42, 7, 115, 15],\n",
       " [43, 116, 4, 44, 117, 6, 118, 1, 119, 120],\n",
       " [121, 122, 5, 8, 45, 46, 1, 123],\n",
       " [124, 125, 126, 4, 127, 3, 128, 23, 129],\n",
       " [21, 10, 130, 131, 16, 132, 133, 18, 134, 12, 135],\n",
       " [45, 46, 136, 1, 4, 137, 8, 17, 138, 139, 47],\n",
       " [11, 9, 19, 6, 140, 20, 141, 3, 142, 143],\n",
       " [17, 144, 145, 146, 147, 148, 149, 1, 48, 150, 16, 32],\n",
       " [151, 152, 153, 154, 41, 39, 155, 156, 15],\n",
       " [34, 1, 38, 157, 14, 158, 43, 159, 160],\n",
       " [2, 161, 27, 42, 20, 3, 162, 49, 18],\n",
       " [163, 164, 35, 2, 165, 30, 166, 5, 31],\n",
       " [29, 167, 1, 168, 169, 170, 3, 4, 171],\n",
       " [50, 1, 172, 14, 173, 10, 174, 175, 11, 176, 33, 6, 25, 47],\n",
       " [2, 177, 178, 179, 8, 20, 26, 180, 182, 183],\n",
       " [12, 184, 22, 185, 2, 48, 5, 49, 40, 186],\n",
       " [36, 2, 187, 188, 189, 190, 191, 37, 7, 192, 193, 194],\n",
       " [2, 195, 196, 197, 19, 50, 198, 199, 200],\n",
       " [11, 201, 19, 6, 44, 202, 203, 3, 28, 204, 205],\n",
       " [1, 206, 24, 207, 3, 208, 209, 210]]"
      ]
     },
     "execution_count": 13,
     "metadata": {},
     "output_type": "execute_result"
    }
   ],
   "source": [
    "seq"
   ]
  },
  {
   "cell_type": "code",
   "execution_count": 14,
   "id": "9c973768-68e4-4ce3-b02d-a8ff313578ae",
   "metadata": {},
   "outputs": [
    {
     "data": {
      "text/plain": [
       "211"
      ]
     },
     "execution_count": 14,
     "metadata": {},
     "output_type": "execute_result"
    }
   ],
   "source": [
    "vocab_size = len(tokenize.word_index)+1\n",
    "vocab_size"
   ]
  },
  {
   "cell_type": "code",
   "execution_count": 15,
   "id": "0abdf769-a851-4c8a-b4ed-fa83cff0e742",
   "metadata": {
    "scrolled": true
   },
   "outputs": [
    {
     "data": {
      "text/plain": [
       "{'movie': 1,\n",
       " 'film': 2,\n",
       " 'characters': 3,\n",
       " 'plot': 4,\n",
       " 'direction': 5,\n",
       " 'seen': 6,\n",
       " 'performances': 7,\n",
       " 'acting': 8,\n",
       " 'best': 9,\n",
       " 'story': 10,\n",
       " 'one': 11,\n",
       " 'left': 12,\n",
       " 'could': 13,\n",
       " 'pacing': 14,\n",
       " 'watch': 15,\n",
       " 'emotional': 16,\n",
       " 'felt': 17,\n",
       " 'perfect': 18,\n",
       " 'movies': 19,\n",
       " 'storyline': 20,\n",
       " 'heartwarming': 21,\n",
       " 'feeling': 22,\n",
       " 'real': 23,\n",
       " 'dragged': 24,\n",
       " 'long': 25,\n",
       " 'visuals': 26,\n",
       " 'stunning': 27,\n",
       " 'kept': 28,\n",
       " 'truly': 29,\n",
       " 'script': 30,\n",
       " 'weak': 31,\n",
       " 'depth': 32,\n",
       " 'films': 33,\n",
       " 'found': 34,\n",
       " 'cast': 35,\n",
       " 'incredible': 36,\n",
       " 'way': 37,\n",
       " 'total': 38,\n",
       " 'chemistry': 39,\n",
       " 'completely': 40,\n",
       " 'fantastic': 41,\n",
       " 'captivating': 42,\n",
       " 'dialogue': 43,\n",
       " 'full': 44,\n",
       " 'special': 45,\n",
       " 'effects': 46,\n",
       " 'time': 47,\n",
       " 'lacked': 48,\n",
       " 'ending': 49,\n",
       " 'nothing': 50,\n",
       " 'tale': 51,\n",
       " 'friendship': 52,\n",
       " 'perseverance': 53,\n",
       " 'stellar': 54,\n",
       " 'spot': 55,\n",
       " 'inspired': 56,\n",
       " 'predictable': 57,\n",
       " 'boring': 58,\n",
       " 'twists': 59,\n",
       " 'mediocre': 60,\n",
       " 'far': 61,\n",
       " 'loved': 62,\n",
       " 'every': 63,\n",
       " 'minute': 64,\n",
       " 'engaged': 65,\n",
       " 'start': 66,\n",
       " 'finish': 67,\n",
       " 'masterpiece': 68,\n",
       " 'absolute': 69,\n",
       " 'disaster': 70,\n",
       " 'wait': 71,\n",
       " 'end': 72,\n",
       " 'action': 73,\n",
       " 'sequences': 74,\n",
       " 'cinematography': 75,\n",
       " 'breathtaking': 76,\n",
       " 'definitely': 77,\n",
       " 'year': 78,\n",
       " 'tried': 79,\n",
       " 'hard': 80,\n",
       " 'funny': 81,\n",
       " 'jokes': 82,\n",
       " 'fell': 83,\n",
       " 'flat': 84,\n",
       " 'slow': 85,\n",
       " 'checking': 86,\n",
       " 'delivering': 87,\n",
       " 'powerful': 88,\n",
       " 'brought': 89,\n",
       " 'life': 90,\n",
       " 'rollercoaster': 91,\n",
       " 'possible': 92,\n",
       " 'confusing': 93,\n",
       " 'unconvincing': 94,\n",
       " 'miss': 95,\n",
       " 'sloppy': 96,\n",
       " 'unorganized': 97,\n",
       " 'beautiful': 98,\n",
       " 'heartfelt': 99,\n",
       " 'message': 100,\n",
       " 'soundtrack': 101,\n",
       " 'leads': 102,\n",
       " 'undeniable': 103,\n",
       " 'underwhelmed': 104,\n",
       " 'hype': 105,\n",
       " 'around': 106,\n",
       " 'unwarranted': 107,\n",
       " 'failed': 108,\n",
       " 'deliver': 109,\n",
       " 'promises': 110,\n",
       " 'exceeded': 111,\n",
       " 'expectations': 112,\n",
       " 'brilliant': 113,\n",
       " 'storytelling': 114,\n",
       " 'would': 115,\n",
       " 'cheesy': 116,\n",
       " 'clichés': 117,\n",
       " 'type': 118,\n",
       " 'hundred': 119,\n",
       " 'times': 120,\n",
       " 'unforgettable': 121,\n",
       " 'experience': 122,\n",
       " 'lover': 123,\n",
       " 'struggled': 124,\n",
       " 'stay': 125,\n",
       " 'awake': 126,\n",
       " 'disjointed': 127,\n",
       " 'unrelatable': 128,\n",
       " 'disappointment': 129,\n",
       " 'plenty': 130,\n",
       " 'laughs': 131,\n",
       " 'moments': 132,\n",
       " 'struck': 133,\n",
       " 'balance': 134,\n",
       " 'smiling': 135,\n",
       " 'save': 136,\n",
       " 'nonsensical': 137,\n",
       " 'forced': 138,\n",
       " 'waste': 139,\n",
       " 'years': 140,\n",
       " 'unique': 141,\n",
       " 'beautifully': 142,\n",
       " 'written': 143,\n",
       " 'like': 144,\n",
       " 'lazy': 145,\n",
       " 'attempt': 146,\n",
       " 'cash': 147,\n",
       " 'popular': 148,\n",
       " 'trend': 149,\n",
       " 'originality': 150,\n",
       " 'stop': 151,\n",
       " 'laughing': 152,\n",
       " 'comedy': 153,\n",
       " 'actors': 154,\n",
       " 'thoroughly': 155,\n",
       " 'enjoyable': 156,\n",
       " 'snoozefest': 157,\n",
       " 'place': 158,\n",
       " 'painfully': 159,\n",
       " 'dull': 160,\n",
       " 'visually': 161,\n",
       " 'relatable': 162,\n",
       " 'despite': 163,\n",
       " 'talented': 164,\n",
       " 'letdown': 165,\n",
       " 'uninspired': 166,\n",
       " 'uplifting': 167,\n",
       " 'restores': 168,\n",
       " 'faith': 169,\n",
       " 'humanity': 170,\n",
       " 'engaging': 171,\n",
       " 'worked': 172,\n",
       " 'terrible': 173,\n",
       " 'made': 174,\n",
       " 'sense': 175,\n",
       " 'worst': 176,\n",
       " 'took': 177,\n",
       " 'breath': 178,\n",
       " 'away': 179,\n",
       " 'magnificent': 180,\n",
       " 'ca': 181,\n",
       " 'recommend': 182,\n",
       " 'enough': 183,\n",
       " 'theater': 184,\n",
       " 'disappointed': 185,\n",
       " 'unsatisfying': 186,\n",
       " 'tackles': 187,\n",
       " 'important': 188,\n",
       " 'social': 189,\n",
       " 'issues': 190,\n",
       " 'thoughtful': 191,\n",
       " 'amazing': 192,\n",
       " 'writing': 193,\n",
       " 'sharp': 194,\n",
       " 'unoriginal': 195,\n",
       " 'rehash': 196,\n",
       " 'better': 197,\n",
       " 'memorable': 198,\n",
       " 'ultimately': 199,\n",
       " 'forgettable': 200,\n",
       " 'fun': 201,\n",
       " 'energy': 202,\n",
       " 'great': 203,\n",
       " 'entertained': 204,\n",
       " 'throughout': 205,\n",
       " 'overhyped': 206,\n",
       " 'none': 207,\n",
       " 'likable': 208,\n",
       " 'chore': 209,\n",
       " 'sit': 210}"
      ]
     },
     "execution_count": 15,
     "metadata": {},
     "output_type": "execute_result"
    }
   ],
   "source": [
    "tokenize.word_index"
   ]
  },
  {
   "cell_type": "code",
   "execution_count": 16,
   "id": "423a330d-01a6-4144-9121-45f28f47ffd6",
   "metadata": {},
   "outputs": [
    {
     "data": {
      "text/plain": [
       "14"
      ]
     },
     "execution_count": 16,
     "metadata": {},
     "output_type": "execute_result"
    }
   ],
   "source": [
    "max_length = max([len(s) for s in seq])\n",
    "max_length"
   ]
  },
  {
   "cell_type": "code",
   "execution_count": 17,
   "id": "c22a8627-c68d-499d-bc2e-d745ab5701c1",
   "metadata": {},
   "outputs": [],
   "source": [
    "padded_seq = sequence.pad_sequences(seq, maxlen=max_length, padding=\"post\")"
   ]
  },
  {
   "cell_type": "code",
   "execution_count": 18,
   "id": "259588b6-2b07-430e-a50e-a98712f06127",
   "metadata": {
    "scrolled": true
   },
   "outputs": [
    {
     "data": {
      "text/plain": [
       "array([[  1,  21,  51,  52,  53,   7,  54,   5,  55,  12,  22,  56,   0,\n",
       "          0],\n",
       "       [  4,  57,  58,  23,  59,   8,  60,   9,   2,  24,  61,  25,   0,\n",
       "          0],\n",
       "       [ 62,  63,  64,  26,  27,  10,  28,  65,  66,  67,  29,  68,   0,\n",
       "          0],\n",
       "       [ 69,  70,  30,  31,   3,  32,  71,  72,   0,   0,   0,   0,   0,\n",
       "          0],\n",
       "       [ 73,  74,  75,  76,  77,  11,   9,  33,   6,  78,   0,   0,   0,\n",
       "          0],\n",
       "       [  2,  79,  80,  81,  82,  83,  84,  14,  85,  34,  86,  15,   0,\n",
       "          0],\n",
       "       [ 35,  36,  87,  88,   7,  89,  10,  90,  16,  91,   9,  37,  92,\n",
       "          0],\n",
       "       [ 93,   4,  94,   3,   2,  38,  95,   5,  17,  96,  97,   0,   0,\n",
       "          0],\n",
       "       [ 98,   2,  99, 100, 101,  18,  39, 102, 103,   0,   0,   0,   0,\n",
       "          0],\n",
       "       [ 40, 104, 105, 106,   1, 107, 108, 109, 110,   0,   0,   0,   0,\n",
       "          0],\n",
       "       [ 41,   1, 111, 112, 113, 114,  42,   7, 115,  15,   0,   0,   0,\n",
       "          0],\n",
       "       [ 43, 116,   4,  44, 117,   6, 118,   1, 119, 120,   0,   0,   0,\n",
       "          0],\n",
       "       [121, 122,   5,   8,  45,  46,   1, 123,   0,   0,   0,   0,   0,\n",
       "          0],\n",
       "       [124, 125, 126,   4, 127,   3, 128,  23, 129,   0,   0,   0,   0,\n",
       "          0],\n",
       "       [ 21,  10, 130, 131,  16, 132, 133,  18, 134,  12, 135,   0,   0,\n",
       "          0],\n",
       "       [ 45,  46, 136,   1,   4, 137,   8,  17, 138, 139,  47,   0,   0,\n",
       "          0],\n",
       "       [ 11,   9,  19,   6, 140,  20, 141,   3, 142, 143,   0,   0,   0,\n",
       "          0],\n",
       "       [ 17, 144, 145, 146, 147, 148, 149,   1,  48, 150,  16,  32,   0,\n",
       "          0],\n",
       "       [151, 152, 153, 154,  41,  39, 155, 156,  15,   0,   0,   0,   0,\n",
       "          0],\n",
       "       [ 34,   1,  38, 157,  14, 158,  43, 159, 160,   0,   0,   0,   0,\n",
       "          0],\n",
       "       [  2, 161,  27,  42,  20,   3, 162,  49,  18,   0,   0,   0,   0,\n",
       "          0],\n",
       "       [163, 164,  35,   2, 165,  30, 166,   5,  31,   0,   0,   0,   0,\n",
       "          0],\n",
       "       [ 29, 167,   1, 168, 169, 170,   3,   4, 171,   0,   0,   0,   0,\n",
       "          0],\n",
       "       [ 50,   1, 172,  14, 173,  10, 174, 175,  11, 176,  33,   6,  25,\n",
       "         47],\n",
       "       [  2, 177, 178, 179,   8,  20,  26, 180, 182, 183,   0,   0,   0,\n",
       "          0],\n",
       "       [ 12, 184,  22, 185,   2,  48,   5,  49,  40, 186,   0,   0,   0,\n",
       "          0],\n",
       "       [ 36,   2, 187, 188, 189, 190, 191,  37,   7, 192, 193, 194,   0,\n",
       "          0],\n",
       "       [  2, 195, 196, 197,  19,  50, 198, 199, 200,   0,   0,   0,   0,\n",
       "          0],\n",
       "       [ 11, 201,  19,   6,  44, 202, 203,   3,  28, 204, 205,   0,   0,\n",
       "          0],\n",
       "       [  1, 206,  24, 207,   3, 208, 209, 210,   0,   0,   0,   0,   0,\n",
       "          0]])"
      ]
     },
     "execution_count": 18,
     "metadata": {},
     "output_type": "execute_result"
    }
   ],
   "source": [
    "padded_seq"
   ]
  },
  {
   "cell_type": "code",
   "execution_count": 19,
   "id": "5b507181-899b-4b31-905f-d9a81594485c",
   "metadata": {},
   "outputs": [
    {
     "data": {
      "text/plain": [
       "array([1, 0, 1, 0, 1, 0, 1, 0, 1, 0, 1, 0, 1, 0, 1, 0, 1, 0, 1, 0, 1, 0,\n",
       "       1, 0, 1, 0, 1, 0, 1, 0])"
      ]
     },
     "execution_count": 19,
     "metadata": {},
     "output_type": "execute_result"
    }
   ],
   "source": [
    "labels = np.array([1 if i == \"Positive\" else 0 for i in sentiment])\n",
    "labels"
   ]
  },
  {
   "cell_type": "code",
   "execution_count": 31,
   "id": "bda3817b-51ab-48de-9582-c7a313952c1c",
   "metadata": {},
   "outputs": [],
   "source": [
    "model = Sequential([\n",
    "    Embedding(vocab_size, 32, input_length=max_length),\n",
    "    SimpleRNN(32),\n",
    "    Dense(1, activation=\"sigmoid\")\n",
    "])"
   ]
  },
  {
   "cell_type": "code",
   "execution_count": 32,
   "id": "1bc77cad-b98a-4aa4-b0b9-7d449d0bf1f7",
   "metadata": {},
   "outputs": [],
   "source": [
    "model.compile(optimizer=\"adam\", loss=\"binary_crossentropy\", metrics=[\"accuracy\"])"
   ]
  },
  {
   "cell_type": "code",
   "execution_count": 33,
   "id": "f75fe19e-9063-4b7a-87d2-fd0d8669b886",
   "metadata": {},
   "outputs": [
    {
     "name": "stdout",
     "output_type": "stream",
     "text": [
      "Epoch 1/40\n",
      "1/1 [==============================] - 1s 1s/step - loss: 0.6924 - accuracy: 0.4667\n",
      "Epoch 2/40\n",
      "1/1 [==============================] - 0s 10ms/step - loss: 0.6587 - accuracy: 0.6333\n",
      "Epoch 3/40\n",
      "1/1 [==============================] - 0s 10ms/step - loss: 0.6274 - accuracy: 0.9000\n",
      "Epoch 4/40\n",
      "1/1 [==============================] - 0s 10ms/step - loss: 0.5967 - accuracy: 0.9333\n",
      "Epoch 5/40\n",
      "1/1 [==============================] - 0s 10ms/step - loss: 0.5654 - accuracy: 0.9667\n",
      "Epoch 6/40\n",
      "1/1 [==============================] - 0s 10ms/step - loss: 0.5330 - accuracy: 1.0000\n",
      "Epoch 7/40\n",
      "1/1 [==============================] - 0s 9ms/step - loss: 0.4988 - accuracy: 1.0000\n",
      "Epoch 8/40\n",
      "1/1 [==============================] - 0s 11ms/step - loss: 0.4629 - accuracy: 1.0000\n",
      "Epoch 9/40\n",
      "1/1 [==============================] - 0s 12ms/step - loss: 0.4252 - accuracy: 1.0000\n",
      "Epoch 10/40\n",
      "1/1 [==============================] - 0s 10ms/step - loss: 0.3863 - accuracy: 1.0000\n",
      "Epoch 11/40\n",
      "1/1 [==============================] - 0s 11ms/step - loss: 0.3467 - accuracy: 1.0000\n",
      "Epoch 12/40\n",
      "1/1 [==============================] - 0s 9ms/step - loss: 0.3071 - accuracy: 1.0000\n",
      "Epoch 13/40\n",
      "1/1 [==============================] - 0s 10ms/step - loss: 0.2682 - accuracy: 1.0000\n",
      "Epoch 14/40\n",
      "1/1 [==============================] - 0s 9ms/step - loss: 0.2310 - accuracy: 1.0000\n",
      "Epoch 15/40\n",
      "1/1 [==============================] - 0s 9ms/step - loss: 0.1962 - accuracy: 1.0000\n",
      "Epoch 16/40\n",
      "1/1 [==============================] - 0s 10ms/step - loss: 0.1646 - accuracy: 1.0000\n",
      "Epoch 17/40\n",
      "1/1 [==============================] - 0s 9ms/step - loss: 0.1368 - accuracy: 1.0000\n",
      "Epoch 18/40\n",
      "1/1 [==============================] - 0s 9ms/step - loss: 0.1130 - accuracy: 1.0000\n",
      "Epoch 19/40\n",
      "1/1 [==============================] - 0s 10ms/step - loss: 0.0931 - accuracy: 1.0000\n",
      "Epoch 20/40\n",
      "1/1 [==============================] - 0s 9ms/step - loss: 0.0768 - accuracy: 1.0000\n",
      "Epoch 21/40\n",
      "1/1 [==============================] - 0s 8ms/step - loss: 0.0638 - accuracy: 1.0000\n",
      "Epoch 22/40\n",
      "1/1 [==============================] - 0s 9ms/step - loss: 0.0533 - accuracy: 1.0000\n",
      "Epoch 23/40\n",
      "1/1 [==============================] - 0s 9ms/step - loss: 0.0450 - accuracy: 1.0000\n",
      "Epoch 24/40\n",
      "1/1 [==============================] - 0s 9ms/step - loss: 0.0385 - accuracy: 1.0000\n",
      "Epoch 25/40\n",
      "1/1 [==============================] - 0s 9ms/step - loss: 0.0332 - accuracy: 1.0000\n",
      "Epoch 26/40\n",
      "1/1 [==============================] - 0s 9ms/step - loss: 0.0289 - accuracy: 1.0000\n",
      "Epoch 27/40\n",
      "1/1 [==============================] - 0s 9ms/step - loss: 0.0255 - accuracy: 1.0000\n",
      "Epoch 28/40\n",
      "1/1 [==============================] - 0s 9ms/step - loss: 0.0227 - accuracy: 1.0000\n",
      "Epoch 29/40\n",
      "1/1 [==============================] - 0s 8ms/step - loss: 0.0203 - accuracy: 1.0000\n",
      "Epoch 30/40\n",
      "1/1 [==============================] - 0s 9ms/step - loss: 0.0184 - accuracy: 1.0000\n",
      "Epoch 31/40\n",
      "1/1 [==============================] - 0s 9ms/step - loss: 0.0167 - accuracy: 1.0000\n",
      "Epoch 32/40\n",
      "1/1 [==============================] - 0s 8ms/step - loss: 0.0153 - accuracy: 1.0000\n",
      "Epoch 33/40\n",
      "1/1 [==============================] - 0s 10ms/step - loss: 0.0141 - accuracy: 1.0000\n",
      "Epoch 34/40\n",
      "1/1 [==============================] - 0s 7ms/step - loss: 0.0130 - accuracy: 1.0000\n",
      "Epoch 35/40\n",
      "1/1 [==============================] - 0s 9ms/step - loss: 0.0121 - accuracy: 1.0000\n",
      "Epoch 36/40\n",
      "1/1 [==============================] - 0s 9ms/step - loss: 0.0113 - accuracy: 1.0000\n",
      "Epoch 37/40\n",
      "1/1 [==============================] - 0s 9ms/step - loss: 0.0106 - accuracy: 1.0000\n",
      "Epoch 38/40\n",
      "1/1 [==============================] - 0s 10ms/step - loss: 0.0100 - accuracy: 1.0000\n",
      "Epoch 39/40\n",
      "1/1 [==============================] - 0s 9ms/step - loss: 0.0094 - accuracy: 1.0000\n",
      "Epoch 40/40\n",
      "1/1 [==============================] - 0s 9ms/step - loss: 0.0089 - accuracy: 1.0000\n"
     ]
    },
    {
     "data": {
      "text/plain": [
       "<keras.src.callbacks.History at 0x18e43f18cd0>"
      ]
     },
     "execution_count": 33,
     "metadata": {},
     "output_type": "execute_result"
    }
   ],
   "source": [
    "model.fit(padded_seq, labels, epochs=40)"
   ]
  },
  {
   "cell_type": "code",
   "execution_count": 34,
   "id": "7655b826-c692-4664-aabd-a2c393a3bfa9",
   "metadata": {},
   "outputs": [
    {
     "data": {
      "image/png": "[encoded data removed]",
      "text/plain": [
       "<Figure size 800x400 with 1 Axes>"
      ]
     },
     "metadata": {},
     "output_type": "display_data"
    }
   ],
   "source": [
    "plt.figure(figsize=(8, 4))\n",
    "plt.plot(model.history.history[\"loss\"], label=\"Training Loss\")\n",
    "plt.legend()\n",
    "plt.title(\"Loss Visualization\")\n",
    "plt.xlabel(\"Epochs\")\n",
    "plt.ylabel(\"Loss\")\n",
    "plt.show()"
   ]
  },
  {
   "cell_type": "code",
   "execution_count": 35,
   "id": "7abef490-d9af-45c7-b63b-b62a3a2f85c7",
   "metadata": {},
   "outputs": [
    {
     "data": {
      "image/png": "[encoded data removed]",
      "text/plain": [
       "<Figure size 800x400 with 1 Axes>"
      ]
     },
     "metadata": {},
     "output_type": "display_data"
    }
   ],
   "source": [
    "plt.figure(figsize=(8, 4))\n",
    "plt.plot(model.history.history[\"accuracy\"], label=\"Training Accuracy\")\n",
    "plt.legend()\n",
    "plt.title(\"Accuracy Visualization\")\n",
    "plt.xlabel(\"Epochs\")\n",
    "plt.ylabel(\"Accuracy\")\n",
    "plt.show()"
   ]
  },
  {
   "cell_type": "code",
   "execution_count": 36,
   "id": "eea5a342-e972-4d0c-8677-d8db5d9a9031",
   "metadata": {},
   "outputs": [],
   "source": [
    "def sentiment_prediction(sent):\n",
    "    cleaned = \" \".join([i for i in word_tokenize(sent.lower()) if i not in stop_words and i.isalpha()])\n",
    "    new_seq = tokenize.texts_to_sequences([cleaned])\n",
    "    new_padded_seq = sequence.pad_sequences(new_seq, maxlen=max_length, padding=\"post\")\n",
    "    pred = model.predict(new_padded_seq)\n",
    "    pred_sentiment = \"Positive\" if pred >= 0.5 else \"Negative\"\n",
    "    return f\"The predicted sentiment is {pred_sentiment}, {pred}\""
   ]
  },
  {
   "cell_type": "code",
   "execution_count": 37,
   "id": "f1570fcb-8e61-447e-8765-5ab43adb530d",
   "metadata": {},
   "outputs": [
    {
     "name": "stdout",
     "output_type": "stream",
     "text": [
      "1/1 [==============================] - 0s 175ms/step\n"
     ]
    },
    {
     "data": {
      "text/plain": [
       "'The predicted sentiment is Negative, [[0.03590907]]'"
      ]
     },
     "execution_count": 37,
     "metadata": {},
     "output_type": "execute_result"
    }
   ],
   "source": [
    "sentiment_prediction(\"I couldn't stand watching it, a complete waste of time.\")"
   ]
  },
  {
   "cell_type": "code",
   "execution_count": 38,
   "id": "4823fc5d-e421-4159-9b4c-85c94c4f455d",
   "metadata": {},
   "outputs": [
    {
     "name": "stdout",
     "output_type": "stream",
     "text": [
      "1/1 [==============================] - 0s 30ms/step\n"
     ]
    },
    {
     "data": {
      "text/plain": [
       "'The predicted sentiment is Positive, [[0.9771833]]'"
      ]
     },
     "execution_count": 38,
     "metadata": {},
     "output_type": "execute_result"
    }
   ],
   "source": [
    "sentiment_prediction(\"A beautifully crafted story that tugs at the heartstrings\")"
   ]
  },
  {
   "cell_type": "code",
   "execution_count": null,
   "id": "b14be0a8-74cd-4e03-8f83-cba534458d0f",
   "metadata": {},
   "outputs": [],
   "source": []
  }
 ],
 "metadata": {
  "kernelspec": {
   "display_name": "Python 3 (ipykernel)",
   "language": "python",
   "name": "python3"
  },
  "language_info": {
   "codemirror_mode": {
    "name": "ipython",
    "version": 3
   },
   "file_extension": ".py",
   "mimetype": "text/x-python",
   "name": "python",
   "nbconvert_exporter": "python",
   "pygments_lexer": "ipython3",
   "version": "3.11.7"
  },
  "widgets": {
   "application/vnd.jupyter.widget-state+json": {
    "state": {},
    "version_major": 2,
    "version_minor": 0
   }
  }
 },
 "nbformat": 4,
 "nbformat_minor": 5
}
