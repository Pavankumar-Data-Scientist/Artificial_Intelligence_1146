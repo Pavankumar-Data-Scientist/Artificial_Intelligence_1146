{
 "cells": [
  {
   "cell_type": "code",
   "execution_count": 1,
   "id": "1021c10a-9f4d-4d59-8e91-884bf8709eb5",
   "metadata": {},
   "outputs": [],
   "source": [
    "import numpy as np"
   ]
  },
  {
   "cell_type": "code",
   "execution_count": 39,
   "id": "3147cb1d-64dd-4793-85ca-96a1f0a96923",
   "metadata": {},
   "outputs": [],
   "source": [
    "class Perceptron:\n",
    "    def __init__(self, input_dim, learning_rate, epochs):\n",
    "        self.lr = learning_rate\n",
    "        self.epochs = epochs\n",
    "        self.weight = np.random.rand(input_dim)\n",
    "        self.bias = np.random.rand()\n",
    "\n",
    "    def step_function(self, x):\n",
    "        return 1 if x>= 59 else 0\n",
    "\n",
    "    def predict(self, input):\n",
    "        weighted_sum = np.dot(input, self.weight)+self.bias\n",
    "        return self.step_function(weighted_sum)\n",
    "        \n",
    "    def fit(self, inp, out):\n",
    "        for i in range(self.epochs):\n",
    "            for j in range(len(inp)):\n",
    "                y_pred = self.predict(inp[j])\n",
    "                error = out[j] - y_pred\n",
    "\n",
    "                self.weight += (self.lr * error * out[j])\n",
    "                self.bias += (self.lr * error)"
   ]
  },
  {
   "cell_type": "code",
   "execution_count": 40,
   "id": "8ac25306-464d-4dc9-a0ab-1300fcda63f5",
   "metadata": {},
   "outputs": [],
   "source": [
    "inp_data = np.array([[0, 0], [0, 1], [1, 0], [1, 1]])\n",
    "out_and = np.array([0, 0, 0, 1])"
   ]
  },
  {
   "cell_type": "code",
   "execution_count": 41,
   "id": "6c2277c5-efa1-4251-9cf2-ca728114e09b",
   "metadata": {},
   "outputs": [],
   "source": [
    "AND_Model = Perceptron(input_dim=2, learning_rate=0.5, epochs=1000)"
   ]
  },
  {
   "cell_type": "code",
   "execution_count": 42,
   "id": "646e8346-4a53-454d-8993-eb3aabb6fe3c",
   "metadata": {},
   "outputs": [],
   "source": [
    "AND_Model.fit(inp_data, out_and)"
   ]
  },
  {
   "cell_type": "code",
   "execution_count": 43,
   "id": "7853a934-069f-46f6-b47d-6ac4f02d5cb1",
   "metadata": {},
   "outputs": [
    {
     "data": {
      "text/plain": [
       "1"
      ]
     },
     "execution_count": 43,
     "metadata": {},
     "output_type": "execute_result"
    }
   ],
   "source": [
    "AND_Model.predict([1, 1])"
   ]
  },
  {
   "cell_type": "code",
   "execution_count": 44,
   "id": "3d108717-2ec4-4d61-ae4f-32ddd9adbbd9",
   "metadata": {},
   "outputs": [],
   "source": [
    "AND_Predicted = np.array(list(map(lambda x : AND_Model.predict(x), inp_data)))"
   ]
  },
  {
   "cell_type": "code",
   "execution_count": 45,
   "id": "376c00a8-5235-41b9-ae5f-e4f8412d0b07",
   "metadata": {},
   "outputs": [
    {
     "data": {
      "text/plain": [
       "array([0, 0, 0, 1])"
      ]
     },
     "execution_count": 45,
     "metadata": {},
     "output_type": "execute_result"
    }
   ],
   "source": [
    "AND_Predicted"
   ]
  },
  {
   "cell_type": "code",
   "execution_count": null,
   "id": "cf199364-ad00-4b41-a758-b82c5ef50b16",
   "metadata": {},
   "outputs": [],
   "source": []
  },
  {
   "cell_type": "code",
   "execution_count": 46,
   "id": "f5b0d734-2908-4d42-89fb-7ce405a504cb",
   "metadata": {},
   "outputs": [],
   "source": [
    "inp_data = np.array([[0, 0], [0, 1], [1, 0], [1, 1]])\n",
    "out_or = np.array([0, 1, 1, 1])"
   ]
  },
  {
   "cell_type": "code",
   "execution_count": 47,
   "id": "a0ea98c6-c802-4c5c-87e6-ae8e46f6ebcc",
   "metadata": {},
   "outputs": [],
   "source": [
    "OR_Model = Perceptron(input_dim=2, learning_rate=0.5, epochs=500)"
   ]
  },
  {
   "cell_type": "code",
   "execution_count": 48,
   "id": "4bec0513-7d3f-400c-83fd-f0610593b085",
   "metadata": {},
   "outputs": [],
   "source": [
    "OR_Model.fit(inp_data, out_or)"
   ]
  },
  {
   "cell_type": "code",
   "execution_count": 49,
   "id": "2a567229-1db0-4bbd-b81e-1f245a2eb992",
   "metadata": {},
   "outputs": [
    {
     "data": {
      "text/plain": [
       "1"
      ]
     },
     "execution_count": 49,
     "metadata": {},
     "output_type": "execute_result"
    }
   ],
   "source": [
    "OR_Model.predict([1, 1])"
   ]
  },
  {
   "cell_type": "code",
   "execution_count": 50,
   "id": "4b908c1a-2d77-4906-b43b-ee9f765d75ae",
   "metadata": {},
   "outputs": [],
   "source": [
    "OR_Predicted = np.array(list(map(lambda x : OR_Model.predict(x), inp_data)))"
   ]
  },
  {
   "cell_type": "code",
   "execution_count": 51,
   "id": "0664fbd5-e2c5-45d0-bd5c-46f0b64330ec",
   "metadata": {},
   "outputs": [
    {
     "data": {
      "text/plain": [
       "array([0, 1, 1, 1])"
      ]
     },
     "execution_count": 51,
     "metadata": {},
     "output_type": "execute_result"
    }
   ],
   "source": [
    "OR_Predicted"
   ]
  },
  {
   "cell_type": "code",
   "execution_count": null,
   "id": "65168189-b24d-4083-9ee9-e2b7a0966506",
   "metadata": {},
   "outputs": [],
   "source": []
  }
 ],
 "metadata": {
  "kernelspec": {
   "display_name": "Python 3 (ipykernel)",
   "language": "python",
   "name": "python3"
  },
  "language_info": {
   "codemirror_mode": {
    "name": "ipython",
    "version": 3
   },
   "file_extension": ".py",
   "mimetype": "text/x-python",
   "name": "python",
   "nbconvert_exporter": "python",
   "pygments_lexer": "ipython3",
   "version": "3.11.7"
  },
  "widgets": {
   "application/vnd.jupyter.widget-state+json": {
    "state": {},
    "version_major": 2,
    "version_minor": 0
   }
  }
 },
 "nbformat": 4,
 "nbformat_minor": 5
}
