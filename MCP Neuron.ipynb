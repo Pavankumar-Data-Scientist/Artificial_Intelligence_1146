{
 "cells": [
  {
   "cell_type": "code",
   "execution_count": 21,
   "id": "e42f66a3-e57f-4241-b465-d65831c9b74e",
   "metadata": {},
   "outputs": [],
   "source": [
    "import numpy as np"
   ]
  },
  {
   "cell_type": "code",
   "execution_count": 22,
   "id": "0d0c4b0e-2e40-46e8-b381-b8512e9d5435",
   "metadata": {},
   "outputs": [],
   "source": [
    "inp_data = np.array([[0, 0], [0, 1], [1, 0], [1, 1]])\n",
    "out_and = np.array([0, 0, 0, 1])"
   ]
  },
  {
   "cell_type": "code",
   "execution_count": 23,
   "id": "87c1add1-8301-4805-ba50-0c3f02a269dd",
   "metadata": {},
   "outputs": [],
   "source": [
    "neuron_output = np.array(list(map(lambda x : 1 if np.sum(x) > 1.5 else 0, inp_data)))"
   ]
  },
  {
   "cell_type": "code",
   "execution_count": 24,
   "id": "48a7f7b2-8418-4d5d-bdaf-4cb5d2b8c574",
   "metadata": {},
   "outputs": [
    {
     "data": {
      "text/plain": [
       "array([0, 0, 0, 1])"
      ]
     },
     "execution_count": 24,
     "metadata": {},
     "output_type": "execute_result"
    }
   ],
   "source": [
    "neuron_output"
   ]
  },
  {
   "cell_type": "code",
   "execution_count": 25,
   "id": "f3b536c8-7e30-43da-b817-776e8b1ecc15",
   "metadata": {},
   "outputs": [
    {
     "data": {
      "text/plain": [
       "True"
      ]
     },
     "execution_count": 25,
     "metadata": {},
     "output_type": "execute_result"
    }
   ],
   "source": [
    "np.allclose(out_and, neuron_output)"
   ]
  },
  {
   "cell_type": "code",
   "execution_count": null,
   "id": "2cb5bd5e-45e1-4c3b-9a18-0a55e4061390",
   "metadata": {},
   "outputs": [],
   "source": []
  },
  {
   "cell_type": "code",
   "execution_count": 26,
   "id": "8612f7f2-68a0-4bda-9a8f-19288faf84bb",
   "metadata": {},
   "outputs": [],
   "source": [
    "inp_data = np.array([[0, 0], [0, 1], [1, 0], [1, 1]])\n",
    "out_or = np.array([0, 1, 1, 1])"
   ]
  },
  {
   "cell_type": "code",
   "execution_count": 27,
   "id": "bbc94fcb-4132-42bd-bfeb-b170b479e255",
   "metadata": {},
   "outputs": [],
   "source": [
    "neuron_output = np.array(list(map(lambda x : 1 if np.sum(x) > 0.5 else 0, inp_data)))"
   ]
  },
  {
   "cell_type": "code",
   "execution_count": 28,
   "id": "3b603ae1-8846-49bc-afe8-1e93c7d5e97f",
   "metadata": {},
   "outputs": [
    {
     "data": {
      "text/plain": [
       "array([0, 1, 1, 1])"
      ]
     },
     "execution_count": 28,
     "metadata": {},
     "output_type": "execute_result"
    }
   ],
   "source": [
    "neuron_output"
   ]
  },
  {
   "cell_type": "code",
   "execution_count": 29,
   "id": "c9bb169c-affc-4f17-9d07-110b62d14971",
   "metadata": {},
   "outputs": [
    {
     "data": {
      "text/plain": [
       "True"
      ]
     },
     "execution_count": 29,
     "metadata": {},
     "output_type": "execute_result"
    }
   ],
   "source": [
    "np.allclose(out_or, neuron_output)"
   ]
  },
  {
   "cell_type": "code",
   "execution_count": null,
   "id": "8bfa7da4-1709-4209-aca6-63bc048e9dc6",
   "metadata": {},
   "outputs": [],
   "source": []
  }
 ],
 "metadata": {
  "kernelspec": {
   "display_name": "Python 3 (ipykernel)",
   "language": "python",
   "name": "python3"
  },
  "language_info": {
   "codemirror_mode": {
    "name": "ipython",
    "version": 3
   },
   "file_extension": ".py",
   "mimetype": "text/x-python",
   "name": "python",
   "nbconvert_exporter": "python",
   "pygments_lexer": "ipython3",
   "version": "3.11.7"
  },
  "widgets": {
   "application/vnd.jupyter.widget-state+json": {
    "state": {},
    "version_major": 2,
    "version_minor": 0
   }
  }
 },
 "nbformat": 4,
 "nbformat_minor": 5
}
